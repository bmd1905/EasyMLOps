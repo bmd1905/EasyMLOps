{
 "cells": [
  {
   "cell_type": "code",
   "execution_count": 1,
   "metadata": {},
   "outputs": [],
   "source": [
    "import xgboost as xgb\n",
    "\n",
    "# Initialize an empty XGBoost model\n",
    "model = xgb.XGBClassifier()\n",
    "\n",
    "# Load the model from the .ubj file\n",
    "model.load_model(\"model.ubj\")"
   ]
  },
  {
   "cell_type": "code",
   "execution_count": 14,
   "metadata": {},
   "outputs": [
    {
     "data": {
      "text/plain": [
       "array([1, 1])"
      ]
     },
     "execution_count": 14,
     "metadata": {},
     "output_type": "execute_result"
    }
   ],
   "source": [
    "import pandas as pd\n",
    "\n",
    "FEATURE_COLUMNS = [\n",
    "    \"brand\",\n",
    "    \"price\", \n",
    "    \"event_weekday\",\n",
    "    \"category_code_level1\", \n",
    "    \"category_code_level2\",\n",
    "    \"activity_count\"\n",
    "]\n",
    "\n",
    "# Prepare data similar to data_loader preprocessing\n",
    "data = [\n",
    "    {\n",
    "        \"brand\": \"sumsung\",\n",
    "        \"price\": 130.76,\n",
    "        \"event_weekday\": 2,\n",
    "        \"category_code_level1\": \"electronics\",\n",
    "        \"category_code_level2\": \"smartphone\", \n",
    "        \"activity_count\": 1,\n",
    "    },\n",
    "    {\n",
    "        \"brand\": \"video\",\n",
    "        \"price\": 130.76,\n",
    "        \"event_weekday\": 2,\n",
    "        \"category_code_level1\": \"electronics\",\n",
    "        \"category_code_level2\": \"smartphone\", \n",
    "        \"activity_count\": 1,\n",
    "    }\n",
    "]\n",
    "\n",
    "# Convert to DataFrame to match preprocessing\n",
    "df = pd.DataFrame(data)\n",
    "\n",
    "# Encode categorical columns\n",
    "for col in [\"brand\", \"category_code_level1\", \"category_code_level2\"]:\n",
    "    df[col] = pd.Categorical(df[col]).codes\n",
    "\n",
    "# Predict using prepared data\n",
    "predictions = model.predict(df[FEATURE_COLUMNS])\n",
    "predictions"
   ]
  },
  {
   "cell_type": "code",
   "execution_count": 15,
   "metadata": {},
   "outputs": [
    {
     "data": {
      "text/html": [
       "<div>\n",
       "<style scoped>\n",
       "    .dataframe tbody tr th:only-of-type {\n",
       "        vertical-align: middle;\n",
       "    }\n",
       "\n",
       "    .dataframe tbody tr th {\n",
       "        vertical-align: top;\n",
       "    }\n",
       "\n",
       "    .dataframe thead th {\n",
       "        text-align: right;\n",
       "    }\n",
       "</style>\n",
       "<table border=\"1\" class=\"dataframe\">\n",
       "  <thead>\n",
       "    <tr style=\"text-align: right;\">\n",
       "      <th></th>\n",
       "      <th>brand</th>\n",
       "      <th>price</th>\n",
       "      <th>event_weekday</th>\n",
       "      <th>category_code_level1</th>\n",
       "      <th>category_code_level2</th>\n",
       "      <th>activity_count</th>\n",
       "    </tr>\n",
       "  </thead>\n",
       "  <tbody>\n",
       "    <tr>\n",
       "      <th>0</th>\n",
       "      <td>0</td>\n",
       "      <td>130.76</td>\n",
       "      <td>2</td>\n",
       "      <td>0</td>\n",
       "      <td>0</td>\n",
       "      <td>1</td>\n",
       "    </tr>\n",
       "    <tr>\n",
       "      <th>1</th>\n",
       "      <td>1</td>\n",
       "      <td>130.76</td>\n",
       "      <td>2</td>\n",
       "      <td>0</td>\n",
       "      <td>0</td>\n",
       "      <td>1</td>\n",
       "    </tr>\n",
       "  </tbody>\n",
       "</table>\n",
       "</div>"
      ],
      "text/plain": [
       "   brand   price  event_weekday  category_code_level1  category_code_level2  \\\n",
       "0      0  130.76              2                     0                     0   \n",
       "1      1  130.76              2                     0                     0   \n",
       "\n",
       "   activity_count  \n",
       "0               1  \n",
       "1               1  "
      ]
     },
     "execution_count": 15,
     "metadata": {},
     "output_type": "execute_result"
    }
   ],
   "source": [
    "df[FEATURE_COLUMNS]"
   ]
  },
  {
   "cell_type": "code",
   "execution_count": null,
   "metadata": {},
   "outputs": [],
   "source": []
  }
 ],
 "metadata": {
  "kernelspec": {
   "display_name": "duc_model_training",
   "language": "python",
   "name": "python3"
  },
  "language_info": {
   "codemirror_mode": {
    "name": "ipython",
    "version": 3
   },
   "file_extension": ".py",
   "mimetype": "text/x-python",
   "name": "python",
   "nbconvert_exporter": "python",
   "pygments_lexer": "ipython3",
   "version": "3.9.20"
  }
 },
 "nbformat": 4,
 "nbformat_minor": 2
}
